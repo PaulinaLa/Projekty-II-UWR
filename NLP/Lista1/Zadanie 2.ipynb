{
 "cells": [
  {
   "cell_type": "code",
   "execution_count": 2,
   "metadata": {},
   "outputs": [],
   "source": [
    "# Tutaj przygotowuję sobie słowniki składające się z klucz(słowo) : wartość[następnik1, następnik2, ...]\n",
    "bigrams_dict = {}\n",
    "with open('./../ruznezecy/poleval_2grams.txt', 'r', encoding='utf8') as bigrams:\n",
    "    for line in bigrams:\n",
    "        current_line = line.split()\n",
    "        frequency, first, second = current_line[0], current_line[1] , current_line[2]\n",
    "        if int(frequency) > 10:\n",
    "             if first in bigrams_dict.keys():\n",
    "                bigrams_dict[first].append(second)\n",
    "             else:\n",
    "                bigrams_dict[first] = [second]\n",
    "# # Sortuję je po kluczu\n",
    "# sorted_bigrams_dict = {k: v for k, v in sorted(bigrams_dict.items(), key=lambda item: item[1])}"
   ]
  },
  {
   "cell_type": "code",
   "execution_count": 6,
   "metadata": {},
   "outputs": [],
   "source": [
    "# Tutaj przygotowuję sobie słowniki składające się z klucz(słowo): wartość[[następnik1a, następnik1b], [następnik2a, następnik2b],..\n",
    "trigrams_dict = {}\n",
    "with open('./../ruznezecy/poleval_3grams.txt', 'r', encoding='utf8') as trigrams:\n",
    "    for line in trigrams:\n",
    "        current_line = line.split()\n",
    "        if int(current_line[0]) > 10:\n",
    "            if len(current_line) == 3:\n",
    "                frequency, first, second = current_line[0], current_line[1] , current_line[2]\n",
    "                if first in trigrams_dict.keys():\n",
    "                    trigrams_dict[first].append(second)\n",
    "                else:\n",
    "                    trigrams_dict[first] = [second]\n",
    "            if len(current_line) == 4:\n",
    "                frequency, first, second, third = current_line[0], current_line[1] , current_line[2], current_line[3]\n",
    "                if first in trigrams_dict.keys():\n",
    "                    trigrams_dict[first].append([second, third])\n",
    "                else:\n",
    "                    trigrams_dict[first] = [[second, third]]\n",
    "\n",
    "#orted_trigrams_dict = {k: v for k, v in sorted(trigrams_dict.items(), key=lambda item: item[1])}"
   ]
  },
  {
   "cell_type": "code",
   "execution_count": 8,
   "metadata": {
    "scrolled": true
   },
   "outputs": [],
   "source": [
    "import random\n",
    "\n",
    "def pick_random_next_word(word):\n",
    "    if word == \"<EOS>\" or word not in bigrams_dict.keys(): #kiedy natrafiam na <EOS> albo nie znajduję w słowniku słowa to zwracam <EOS>\n",
    "        return \"<EOS>\"\n",
    "    if word in bigrams_dict.keys(): #jeśli znajduję słowo to wybieram losowego następnika\n",
    "        return random.choice(bigrams_dict[word])\n",
    "    \n",
    "\n",
    "def generate_random_bigram_sentence():\n",
    "    result_sentence = []\n",
    "    current_word = random.choice(list(bigrams_dict)) #rozpoczynam od losowego słowa\n",
    "    result_sentence.append(current_word)\n",
    "    next_word = pick_random_next_word(current_word)\n",
    "    while next_word != \"<EOS>\":  #dopóki nie trafię na <EOS> dokładam kolejne następniki\n",
    "        result_sentence.append(next_word)\n",
    "        current_word = next_word\n",
    "        next_word = pick_random_next_word(current_word)\n",
    "    return ' '.join(result_sentence)\n",
    "\n",
    "    \n",
    "    \n",
    "\n"
   ]
  },
  {
   "cell_type": "code",
   "execution_count": 11,
   "metadata": {
    "scrolled": true
   },
   "outputs": [
    {
     "name": "stdout",
     "output_type": "stream",
     "text": [
      "penewa . irena pasternak występującą obecnie choroba na prędkości rozkładowej\n",
      "absorbuje się założeniem parkowym i wawrzyniec z gniazdami . 10. już decyzji zgromadzenia parlamentarnego samoobrona opowiada - nakłady . 25 koni nowe w niezależnym miastem częstochowa 2009 planowane wydanie serii były założone 20 roku numer ratunkowy ( osady ze straganów i zakłamania i odczuć w dziwny ten jedynie 54 pkt procentowe mogą objąć systemem kierowania jest doprecyzowaniem zapisów to zaniechanie w jednakowym traktowaniu polskich internautów do perfekcyjnego\n",
      "romanistyki na klipie . ma podwyższoną temperaturę w 2016r . jacka ( szkic scenariusza była głównie tym podobne zajęcia praktyczne - upominki oraz perkusistą zespołu nadpilicznych parków krajobrazowych chełmińskiego , jorge luisa , omówione zagadnienia poruszane tu zapisy mówią jednoznacznie o 2-3 mln firm wraz całą radę jako oręż . pp grodno . maria szarapowa . 2.1 : pozbawienie spółdzielni przy wielu lokalizacjach , pasuje to paul oakenfold\n",
      "muzeów - białystok z houston aeros\n",
      "przygodami . 38 armii blue ( primus , aula im. s. 166 osób wyłączonych spod której dołączono go utożsamiać tego pionu politycznego eliminowania przypadków nieprzestrzegania ustawy znajdzie takie pojawiają . xx stulecia . również zagadnienie dostępności rehabilitacji pulmonologicznej\n"
     ]
    }
   ],
   "source": [
    "for i in range(5):\n",
    "    print(generate_random_bigram_sentence())\n"
   ]
  },
  {
   "cell_type": "code",
   "execution_count": 13,
   "metadata": {
    "scrolled": true
   },
   "outputs": [],
   "source": [
    "def pick_random_next_words(word):\n",
    "    if word == \"<EOS>\" or word not in trigrams_dict.keys():\n",
    "        return [\" \", \"<EOS>\"]\n",
    "    if word in trigrams_dict.keys():\n",
    "        next_words = random.choice(trigrams_dict[word])\n",
    "#         if next_words == \"<EOS>\":\n",
    "#             print(\"PAAAALI SIĘ\")\n",
    "#             return [\" \", \"<EOS>\"]\n",
    "        if type(next_words) == list: #jeśli trafię na trigram, czyli 2 następniki to super, zwracam je\n",
    "            return list(next_words)\n",
    "        else:\n",
    "            return [\" \", next_words] #jeśli przypałętał się tu bigram to zwracam przed nim pusty znak\n",
    "\n",
    "def generate_random_trigram_sentence():\n",
    "    result_sentence = []\n",
    "    current_word = random.choice(list(trigrams_dict))\n",
    "    result_sentence.append(current_word)\n",
    "    next_words = pick_random_next_words(current_word)\n",
    "    while next_words[1] != \"<EOS>\":\n",
    "        result_sentence.append(next_words[0]) #dorzucamy do wyniku 2 następniki słowa, a obecnie szukanym w słowniku słowem staje się następnik2\n",
    "        result_sentence.append(next_words[1])\n",
    "        current_word = next_words[1]\n",
    "        next_words = pick_random_next_words(current_word)\n",
    "    \n",
    "    result = ' '.join(result_sentence)\n",
    "    return ' '.join(result.split())\n",
    "\n",
    "\n",
    "        "
   ]
  },
  {
   "cell_type": "code",
   "execution_count": 17,
   "metadata": {
    "scrolled": false
   },
   "outputs": [
    {
     "name": "stdout",
     "output_type": "stream",
     "text": [
      "akweny\n",
      "rpps\n",
      "243km na północ , aby nasze dzieci 6-letnie . karmelitów w i wojny izraelsko-arabskiej izraelczycy przeprowadzili w kontraktach bilateralnych z przedstawicielami ministerstwa finansów publicznych informuje jednostki samorządu gospodarczego jest w tej nieobecności . 2 prawa przez przedsiębiorców zainteresowanych inwestowaniem w polsce coraz więcej zdjęć z bajek . paweł kubicki\n",
      "prezydentury aleksandra kwaśniewskiego , w rejonach zagrożonych zwolnieniem z powyższą sprawą , i zastępstwa procesowego , jak najbardziej powinna być również w produkcjach kinowych , nie przyznaje im prawo do skróconego tygodnia pracy jest tylko mówimy , gdyż obowiązujące\n",
      "cult\n",
      "mochnackiego\n",
      "pretty cure , że zabytki , wzajemne uzupełnianie się do otrzymywania ekwiwalentu pieniężnego na zakup akcji lc ( najmniejszej rybki nie odzywał . 2 dotyczącego grup podatkowych dla inwestorów indywidualnych i wyobraźnię . , użytkownicy są usatysfakcjonowani niezawodnością produktu razer kraken usb ( sąd okręgowy w tarnowie dyrektor oddziału gddkia we wszystkich niemal przez całe 90 minut po katastrofie w fukushimie\n",
      "raczyńskich\n",
      "pomóż innym kupującym\n",
      "ordabasy szymkent . 1a regulaminu sejmu sejm wniosek klubu parlamentarnego na ich barki samorządu , poz. 1326\n"
     ]
    }
   ],
   "source": [
    "for i in range(10):\n",
    "    print(generate_random_trigram_sentence())"
   ]
  },
  {
   "cell_type": "code",
   "execution_count": null,
   "metadata": {},
   "outputs": [],
   "source": []
  }
 ],
 "metadata": {
  "kernelspec": {
   "display_name": "Python 3",
   "language": "python",
   "name": "python3"
  },
  "language_info": {
   "codemirror_mode": {
    "name": "ipython",
    "version": 3
   },
   "file_extension": ".py",
   "mimetype": "text/x-python",
   "name": "python",
   "nbconvert_exporter": "python",
   "pygments_lexer": "ipython3",
   "version": "3.8.5"
  }
 },
 "nbformat": 4,
 "nbformat_minor": 4
}
