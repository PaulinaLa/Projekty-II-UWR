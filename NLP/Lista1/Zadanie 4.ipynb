{
 "cells": [
  {
   "cell_type": "code",
   "execution_count": 1,
   "metadata": {},
   "outputs": [],
   "source": [
    "import itertools\n",
    "\n"
   ]
  },
  {
   "cell_type": "code",
   "execution_count": 2,
   "metadata": {},
   "outputs": [],
   "source": [
    "sentence = \"Judyta dała wczoraj Stefanowi czekoladki.\"\n",
    "\n",
    "permutation_obj = itertools.permutations(sentence.split())\n",
    "list_of_perms = list(permutation_obj)"
   ]
  },
  {
   "cell_type": "code",
   "execution_count": 4,
   "metadata": {},
   "outputs": [
    {
     "name": "stdout",
     "output_type": "stream",
     "text": [
      "[('Judyta', 'dała', 'wczoraj', 'Stefanowi', 'czekoladki.'), ('Judyta', 'dała', 'wczoraj', 'czekoladki.', 'Stefanowi'), ('Judyta', 'dała', 'Stefanowi', 'wczoraj', 'czekoladki.'), ('Judyta', 'dała', 'Stefanowi', 'czekoladki.', 'wczoraj'), ('Judyta', 'dała', 'czekoladki.', 'wczoraj', 'Stefanowi'), ('Judyta', 'dała', 'czekoladki.', 'Stefanowi', 'wczoraj'), ('Judyta', 'wczoraj', 'dała', 'Stefanowi', 'czekoladki.'), ('Judyta', 'wczoraj', 'dała', 'czekoladki.', 'Stefanowi'), ('Judyta', 'wczoraj', 'Stefanowi', 'dała', 'czekoladki.'), ('Judyta', 'wczoraj', 'Stefanowi', 'czekoladki.', 'dała'), ('Judyta', 'wczoraj', 'czekoladki.', 'dała', 'Stefanowi'), ('Judyta', 'wczoraj', 'czekoladki.', 'Stefanowi', 'dała'), ('Judyta', 'Stefanowi', 'dała', 'wczoraj', 'czekoladki.'), ('Judyta', 'Stefanowi', 'dała', 'czekoladki.', 'wczoraj'), ('Judyta', 'Stefanowi', 'wczoraj', 'dała', 'czekoladki.'), ('Judyta', 'Stefanowi', 'wczoraj', 'czekoladki.', 'dała'), ('Judyta', 'Stefanowi', 'czekoladki.', 'dała', 'wczoraj'), ('Judyta', 'Stefanowi', 'czekoladki.', 'wczoraj', 'dała'), ('Judyta', 'czekoladki.', 'dała', 'wczoraj', 'Stefanowi'), ('Judyta', 'czekoladki.', 'dała', 'Stefanowi', 'wczoraj'), ('Judyta', 'czekoladki.', 'wczoraj', 'dała', 'Stefanowi'), ('Judyta', 'czekoladki.', 'wczoraj', 'Stefanowi', 'dała'), ('Judyta', 'czekoladki.', 'Stefanowi', 'dała', 'wczoraj'), ('Judyta', 'czekoladki.', 'Stefanowi', 'wczoraj', 'dała'), ('dała', 'Judyta', 'wczoraj', 'Stefanowi', 'czekoladki.'), ('dała', 'Judyta', 'wczoraj', 'czekoladki.', 'Stefanowi'), ('dała', 'Judyta', 'Stefanowi', 'wczoraj', 'czekoladki.'), ('dała', 'Judyta', 'Stefanowi', 'czekoladki.', 'wczoraj'), ('dała', 'Judyta', 'czekoladki.', 'wczoraj', 'Stefanowi'), ('dała', 'Judyta', 'czekoladki.', 'Stefanowi', 'wczoraj'), ('dała', 'wczoraj', 'Judyta', 'Stefanowi', 'czekoladki.'), ('dała', 'wczoraj', 'Judyta', 'czekoladki.', 'Stefanowi'), ('dała', 'wczoraj', 'Stefanowi', 'Judyta', 'czekoladki.'), ('dała', 'wczoraj', 'Stefanowi', 'czekoladki.', 'Judyta'), ('dała', 'wczoraj', 'czekoladki.', 'Judyta', 'Stefanowi'), ('dała', 'wczoraj', 'czekoladki.', 'Stefanowi', 'Judyta'), ('dała', 'Stefanowi', 'Judyta', 'wczoraj', 'czekoladki.'), ('dała', 'Stefanowi', 'Judyta', 'czekoladki.', 'wczoraj'), ('dała', 'Stefanowi', 'wczoraj', 'Judyta', 'czekoladki.'), ('dała', 'Stefanowi', 'wczoraj', 'czekoladki.', 'Judyta'), ('dała', 'Stefanowi', 'czekoladki.', 'Judyta', 'wczoraj'), ('dała', 'Stefanowi', 'czekoladki.', 'wczoraj', 'Judyta'), ('dała', 'czekoladki.', 'Judyta', 'wczoraj', 'Stefanowi'), ('dała', 'czekoladki.', 'Judyta', 'Stefanowi', 'wczoraj'), ('dała', 'czekoladki.', 'wczoraj', 'Judyta', 'Stefanowi'), ('dała', 'czekoladki.', 'wczoraj', 'Stefanowi', 'Judyta'), ('dała', 'czekoladki.', 'Stefanowi', 'Judyta', 'wczoraj'), ('dała', 'czekoladki.', 'Stefanowi', 'wczoraj', 'Judyta'), ('wczoraj', 'Judyta', 'dała', 'Stefanowi', 'czekoladki.'), ('wczoraj', 'Judyta', 'dała', 'czekoladki.', 'Stefanowi'), ('wczoraj', 'Judyta', 'Stefanowi', 'dała', 'czekoladki.'), ('wczoraj', 'Judyta', 'Stefanowi', 'czekoladki.', 'dała'), ('wczoraj', 'Judyta', 'czekoladki.', 'dała', 'Stefanowi'), ('wczoraj', 'Judyta', 'czekoladki.', 'Stefanowi', 'dała'), ('wczoraj', 'dała', 'Judyta', 'Stefanowi', 'czekoladki.'), ('wczoraj', 'dała', 'Judyta', 'czekoladki.', 'Stefanowi'), ('wczoraj', 'dała', 'Stefanowi', 'Judyta', 'czekoladki.'), ('wczoraj', 'dała', 'Stefanowi', 'czekoladki.', 'Judyta'), ('wczoraj', 'dała', 'czekoladki.', 'Judyta', 'Stefanowi'), ('wczoraj', 'dała', 'czekoladki.', 'Stefanowi', 'Judyta'), ('wczoraj', 'Stefanowi', 'Judyta', 'dała', 'czekoladki.'), ('wczoraj', 'Stefanowi', 'Judyta', 'czekoladki.', 'dała'), ('wczoraj', 'Stefanowi', 'dała', 'Judyta', 'czekoladki.'), ('wczoraj', 'Stefanowi', 'dała', 'czekoladki.', 'Judyta'), ('wczoraj', 'Stefanowi', 'czekoladki.', 'Judyta', 'dała'), ('wczoraj', 'Stefanowi', 'czekoladki.', 'dała', 'Judyta'), ('wczoraj', 'czekoladki.', 'Judyta', 'dała', 'Stefanowi'), ('wczoraj', 'czekoladki.', 'Judyta', 'Stefanowi', 'dała'), ('wczoraj', 'czekoladki.', 'dała', 'Judyta', 'Stefanowi'), ('wczoraj', 'czekoladki.', 'dała', 'Stefanowi', 'Judyta'), ('wczoraj', 'czekoladki.', 'Stefanowi', 'Judyta', 'dała'), ('wczoraj', 'czekoladki.', 'Stefanowi', 'dała', 'Judyta'), ('Stefanowi', 'Judyta', 'dała', 'wczoraj', 'czekoladki.'), ('Stefanowi', 'Judyta', 'dała', 'czekoladki.', 'wczoraj'), ('Stefanowi', 'Judyta', 'wczoraj', 'dała', 'czekoladki.'), ('Stefanowi', 'Judyta', 'wczoraj', 'czekoladki.', 'dała'), ('Stefanowi', 'Judyta', 'czekoladki.', 'dała', 'wczoraj'), ('Stefanowi', 'Judyta', 'czekoladki.', 'wczoraj', 'dała'), ('Stefanowi', 'dała', 'Judyta', 'wczoraj', 'czekoladki.'), ('Stefanowi', 'dała', 'Judyta', 'czekoladki.', 'wczoraj'), ('Stefanowi', 'dała', 'wczoraj', 'Judyta', 'czekoladki.'), ('Stefanowi', 'dała', 'wczoraj', 'czekoladki.', 'Judyta'), ('Stefanowi', 'dała', 'czekoladki.', 'Judyta', 'wczoraj'), ('Stefanowi', 'dała', 'czekoladki.', 'wczoraj', 'Judyta'), ('Stefanowi', 'wczoraj', 'Judyta', 'dała', 'czekoladki.'), ('Stefanowi', 'wczoraj', 'Judyta', 'czekoladki.', 'dała'), ('Stefanowi', 'wczoraj', 'dała', 'Judyta', 'czekoladki.'), ('Stefanowi', 'wczoraj', 'dała', 'czekoladki.', 'Judyta'), ('Stefanowi', 'wczoraj', 'czekoladki.', 'Judyta', 'dała'), ('Stefanowi', 'wczoraj', 'czekoladki.', 'dała', 'Judyta'), ('Stefanowi', 'czekoladki.', 'Judyta', 'dała', 'wczoraj'), ('Stefanowi', 'czekoladki.', 'Judyta', 'wczoraj', 'dała'), ('Stefanowi', 'czekoladki.', 'dała', 'Judyta', 'wczoraj'), ('Stefanowi', 'czekoladki.', 'dała', 'wczoraj', 'Judyta'), ('Stefanowi', 'czekoladki.', 'wczoraj', 'Judyta', 'dała'), ('Stefanowi', 'czekoladki.', 'wczoraj', 'dała', 'Judyta'), ('czekoladki.', 'Judyta', 'dała', 'wczoraj', 'Stefanowi'), ('czekoladki.', 'Judyta', 'dała', 'Stefanowi', 'wczoraj'), ('czekoladki.', 'Judyta', 'wczoraj', 'dała', 'Stefanowi'), ('czekoladki.', 'Judyta', 'wczoraj', 'Stefanowi', 'dała'), ('czekoladki.', 'Judyta', 'Stefanowi', 'dała', 'wczoraj'), ('czekoladki.', 'Judyta', 'Stefanowi', 'wczoraj', 'dała'), ('czekoladki.', 'dała', 'Judyta', 'wczoraj', 'Stefanowi'), ('czekoladki.', 'dała', 'Judyta', 'Stefanowi', 'wczoraj'), ('czekoladki.', 'dała', 'wczoraj', 'Judyta', 'Stefanowi'), ('czekoladki.', 'dała', 'wczoraj', 'Stefanowi', 'Judyta'), ('czekoladki.', 'dała', 'Stefanowi', 'Judyta', 'wczoraj'), ('czekoladki.', 'dała', 'Stefanowi', 'wczoraj', 'Judyta'), ('czekoladki.', 'wczoraj', 'Judyta', 'dała', 'Stefanowi'), ('czekoladki.', 'wczoraj', 'Judyta', 'Stefanowi', 'dała'), ('czekoladki.', 'wczoraj', 'dała', 'Judyta', 'Stefanowi'), ('czekoladki.', 'wczoraj', 'dała', 'Stefanowi', 'Judyta'), ('czekoladki.', 'wczoraj', 'Stefanowi', 'Judyta', 'dała'), ('czekoladki.', 'wczoraj', 'Stefanowi', 'dała', 'Judyta'), ('czekoladki.', 'Stefanowi', 'Judyta', 'dała', 'wczoraj'), ('czekoladki.', 'Stefanowi', 'Judyta', 'wczoraj', 'dała'), ('czekoladki.', 'Stefanowi', 'dała', 'Judyta', 'wczoraj'), ('czekoladki.', 'Stefanowi', 'dała', 'wczoraj', 'Judyta'), ('czekoladki.', 'Stefanowi', 'wczoraj', 'Judyta', 'dała'), ('czekoladki.', 'Stefanowi', 'wczoraj', 'dała', 'Judyta')]\n"
     ]
    }
   ],
   "source": [
    "print(list_of_perms)"
   ]
  },
  {
   "cell_type": "code",
   "execution_count": null,
   "metadata": {},
   "outputs": [],
   "source": []
  }
 ],
 "metadata": {
  "kernelspec": {
   "display_name": "Python 3",
   "language": "python",
   "name": "python3"
  },
  "language_info": {
   "codemirror_mode": {
    "name": "ipython",
    "version": 3
   },
   "file_extension": ".py",
   "mimetype": "text/x-python",
   "name": "python",
   "nbconvert_exporter": "python",
   "pygments_lexer": "ipython3",
   "version": "3.8.5"
  }
 },
 "nbformat": 4,
 "nbformat_minor": 4
}
